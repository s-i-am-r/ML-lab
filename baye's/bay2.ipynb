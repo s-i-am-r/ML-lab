{
 "cells": [
  {
   "cell_type": "code",
   "execution_count": 1,
   "metadata": {},
   "outputs": [],
   "source": [
    "import numpy as np\n",
    "import pandas as pd"
   ]
  },
  {
   "cell_type": "code",
   "execution_count": 2,
   "metadata": {},
   "outputs": [],
   "source": [
    "data_full = pd.read_csv('books.csv',on_bad_lines='skip')"
   ]
  },
  {
   "cell_type": "code",
   "execution_count": 3,
   "metadata": {},
   "outputs": [],
   "source": [
    "data_st1=data_full[np.mean( data_full['ratings_count'])*0.01<=data_full['ratings_count']]"
   ]
  },
  {
   "cell_type": "code",
   "execution_count": null,
   "metadata": {},
   "outputs": [],
   "source": []
  },
  {
   "cell_type": "code",
   "execution_count": 4,
   "metadata": {},
   "outputs": [],
   "source": [
    "data_st1.reset_index(drop=True,inplace=True)"
   ]
  },
  {
   "cell_type": "code",
   "execution_count": 5,
   "metadata": {},
   "outputs": [],
   "source": [
    "data_st2 = data_st1[['  num_pages','authors','publisher','average_rating']]"
   ]
  },
  {
   "cell_type": "code",
   "execution_count": 6,
   "metadata": {},
   "outputs": [],
   "source": [
    "pages=data_st2['  num_pages'].to_numpy(dtype='int')"
   ]
  },
  {
   "cell_type": "code",
   "execution_count": 7,
   "metadata": {},
   "outputs": [],
   "source": [
    "rat=data_st2['average_rating'].to_numpy(dtype='float')"
   ]
  },
  {
   "cell_type": "code",
   "execution_count": 8,
   "metadata": {},
   "outputs": [],
   "source": [
    "data_rat= pd.DataFrame(map(lambda x: 'good' if x>=rat.mean() else 'not so good',rat),dtype='str')"
   ]
  },
  {
   "cell_type": "code",
   "execution_count": 9,
   "metadata": {},
   "outputs": [],
   "source": [
    "data_size= pd.DataFrame( map(lambda x: 'big' if x>=pages.mean() else 'small',pages))"
   ]
  },
  {
   "cell_type": "code",
   "execution_count": 10,
   "metadata": {},
   "outputs": [],
   "source": [
    "# auths = list(map(lambda x :tuple(x.split(\"/\")), data_st2['authors']))"
   ]
  },
  {
   "cell_type": "code",
   "execution_count": 11,
   "metadata": {},
   "outputs": [],
   "source": [
    "# pubs = list(map(lambda x :tuple(x.split(\"/\")), data_st2['publisher']))"
   ]
  },
  {
   "cell_type": "code",
   "execution_count": 12,
   "metadata": {},
   "outputs": [
    {
     "name": "stderr",
     "output_type": "stream",
     "text": [
      "/tmp/ipykernel_2228/2934830008.py:1: SettingWithCopyWarning: \n",
      "A value is trying to be set on a copy of a slice from a DataFrame.\n",
      "Try using .loc[row_indexer,col_indexer] = value instead\n",
      "\n",
      "See the caveats in the documentation: https://pandas.pydata.org/pandas-docs/stable/user_guide/indexing.html#returning-a-view-versus-a-copy\n",
      "  data_st2[\"quality\"]=data_rat\n"
     ]
    }
   ],
   "source": [
    "data_st2[\"quality\"]=data_rat"
   ]
  },
  {
   "cell_type": "code",
   "execution_count": 13,
   "metadata": {},
   "outputs": [
    {
     "name": "stderr",
     "output_type": "stream",
     "text": [
      "/tmp/ipykernel_2228/1685425713.py:1: SettingWithCopyWarning: \n",
      "A value is trying to be set on a copy of a slice from a DataFrame.\n",
      "Try using .loc[row_indexer,col_indexer] = value instead\n",
      "\n",
      "See the caveats in the documentation: https://pandas.pydata.org/pandas-docs/stable/user_guide/indexing.html#returning-a-view-versus-a-copy\n",
      "  data_st2[\"size\"]=data_size\n"
     ]
    }
   ],
   "source": [
    "data_st2[\"size\"]=data_size"
   ]
  },
  {
   "cell_type": "code",
   "execution_count": 14,
   "metadata": {},
   "outputs": [
    {
     "data": {
      "text/html": [
       "<div>\n",
       "<style scoped>\n",
       "    .dataframe tbody tr th:only-of-type {\n",
       "        vertical-align: middle;\n",
       "    }\n",
       "\n",
       "    .dataframe tbody tr th {\n",
       "        vertical-align: top;\n",
       "    }\n",
       "\n",
       "    .dataframe thead th {\n",
       "        text-align: right;\n",
       "    }\n",
       "</style>\n",
       "<table border=\"1\" class=\"dataframe\">\n",
       "  <thead>\n",
       "    <tr style=\"text-align: right;\">\n",
       "      <th></th>\n",
       "      <th>num_pages</th>\n",
       "      <th>authors</th>\n",
       "      <th>publisher</th>\n",
       "      <th>average_rating</th>\n",
       "      <th>quality</th>\n",
       "      <th>size</th>\n",
       "    </tr>\n",
       "  </thead>\n",
       "  <tbody>\n",
       "    <tr>\n",
       "      <th>0</th>\n",
       "      <td>652</td>\n",
       "      <td>J.K. Rowling/Mary GrandPré</td>\n",
       "      <td>Scholastic Inc.</td>\n",
       "      <td>4.57</td>\n",
       "      <td>good</td>\n",
       "      <td>big</td>\n",
       "    </tr>\n",
       "    <tr>\n",
       "      <th>1</th>\n",
       "      <td>870</td>\n",
       "      <td>J.K. Rowling/Mary GrandPré</td>\n",
       "      <td>Scholastic Inc.</td>\n",
       "      <td>4.49</td>\n",
       "      <td>good</td>\n",
       "      <td>big</td>\n",
       "    </tr>\n",
       "    <tr>\n",
       "      <th>2</th>\n",
       "      <td>352</td>\n",
       "      <td>J.K. Rowling</td>\n",
       "      <td>Scholastic</td>\n",
       "      <td>4.42</td>\n",
       "      <td>good</td>\n",
       "      <td>small</td>\n",
       "    </tr>\n",
       "    <tr>\n",
       "      <th>3</th>\n",
       "      <td>435</td>\n",
       "      <td>J.K. Rowling/Mary GrandPré</td>\n",
       "      <td>Scholastic Inc.</td>\n",
       "      <td>4.56</td>\n",
       "      <td>good</td>\n",
       "      <td>big</td>\n",
       "    </tr>\n",
       "    <tr>\n",
       "      <th>4</th>\n",
       "      <td>2690</td>\n",
       "      <td>J.K. Rowling/Mary GrandPré</td>\n",
       "      <td>Scholastic</td>\n",
       "      <td>4.78</td>\n",
       "      <td>good</td>\n",
       "      <td>big</td>\n",
       "    </tr>\n",
       "    <tr>\n",
       "      <th>...</th>\n",
       "      <td>...</td>\n",
       "      <td>...</td>\n",
       "      <td>...</td>\n",
       "      <td>...</td>\n",
       "      <td>...</td>\n",
       "      <td>...</td>\n",
       "    </tr>\n",
       "    <tr>\n",
       "      <th>7694</th>\n",
       "      <td>160</td>\n",
       "      <td>C.S. Lewis/Pauline Baynes/Ana Falcão Bastos</td>\n",
       "      <td>Editorial Presença</td>\n",
       "      <td>3.97</td>\n",
       "      <td>good</td>\n",
       "      <td>small</td>\n",
       "    </tr>\n",
       "    <tr>\n",
       "      <th>7695</th>\n",
       "      <td>160</td>\n",
       "      <td>William T. Vollmann</td>\n",
       "      <td>Penguin Books</td>\n",
       "      <td>3.69</td>\n",
       "      <td>not so good</td>\n",
       "      <td>small</td>\n",
       "    </tr>\n",
       "    <tr>\n",
       "      <th>7696</th>\n",
       "      <td>635</td>\n",
       "      <td>William T. Vollmann</td>\n",
       "      <td>Penguin Books</td>\n",
       "      <td>4.08</td>\n",
       "      <td>good</td>\n",
       "      <td>big</td>\n",
       "    </tr>\n",
       "    <tr>\n",
       "      <th>7697</th>\n",
       "      <td>415</td>\n",
       "      <td>William T. Vollmann</td>\n",
       "      <td>Penguin Books</td>\n",
       "      <td>3.96</td>\n",
       "      <td>good</td>\n",
       "      <td>big</td>\n",
       "    </tr>\n",
       "    <tr>\n",
       "      <th>7698</th>\n",
       "      <td>434</td>\n",
       "      <td>William T. Vollmann</td>\n",
       "      <td>Ecco</td>\n",
       "      <td>3.72</td>\n",
       "      <td>not so good</td>\n",
       "      <td>big</td>\n",
       "    </tr>\n",
       "  </tbody>\n",
       "</table>\n",
       "<p>7699 rows × 6 columns</p>\n",
       "</div>"
      ],
      "text/plain": [
       "        num_pages                                      authors  \\\n",
       "0             652                   J.K. Rowling/Mary GrandPré   \n",
       "1             870                   J.K. Rowling/Mary GrandPré   \n",
       "2             352                                 J.K. Rowling   \n",
       "3             435                   J.K. Rowling/Mary GrandPré   \n",
       "4            2690                   J.K. Rowling/Mary GrandPré   \n",
       "...           ...                                          ...   \n",
       "7694          160  C.S. Lewis/Pauline Baynes/Ana Falcão Bastos   \n",
       "7695          160                          William T. Vollmann   \n",
       "7696          635                          William T. Vollmann   \n",
       "7697          415                          William T. Vollmann   \n",
       "7698          434                          William T. Vollmann   \n",
       "\n",
       "               publisher  average_rating      quality   size  \n",
       "0        Scholastic Inc.            4.57         good    big  \n",
       "1        Scholastic Inc.            4.49         good    big  \n",
       "2             Scholastic            4.42         good  small  \n",
       "3        Scholastic Inc.            4.56         good    big  \n",
       "4             Scholastic            4.78         good    big  \n",
       "...                  ...             ...          ...    ...  \n",
       "7694  Editorial Presença            3.97         good  small  \n",
       "7695       Penguin Books            3.69  not so good  small  \n",
       "7696       Penguin Books            4.08         good    big  \n",
       "7697       Penguin Books            3.96         good    big  \n",
       "7698                Ecco            3.72  not so good    big  \n",
       "\n",
       "[7699 rows x 6 columns]"
      ]
     },
     "execution_count": 14,
     "metadata": {},
     "output_type": "execute_result"
    }
   ],
   "source": [
    "data_st2"
   ]
  },
  {
   "cell_type": "code",
   "execution_count": null,
   "metadata": {},
   "outputs": [
    {
     "ename": "NameError",
     "evalue": "name 'auths' is not defined",
     "output_type": "error",
     "traceback": [
      "\u001b[0;31m---------------------------------------------------------------------------\u001b[0m",
      "\u001b[0;31mNameError\u001b[0m                                 Traceback (most recent call last)",
      "Cell \u001b[0;32mIn[15], line 1\u001b[0m\n\u001b[0;32m----> 1\u001b[0m data_st2[\u001b[38;5;124m\"\u001b[39m\u001b[38;5;124mauthors\u001b[39m\u001b[38;5;124m\"\u001b[39m]\u001b[38;5;241m=\u001b[39m\u001b[43mauths\u001b[49m\n",
      "\u001b[0;31mNameError\u001b[0m: name 'auths' is not defined"
     ]
    }
   ],
   "source": [
    "# data_st2[\"authors\"]=auths"
   ]
  },
  {
   "cell_type": "code",
   "execution_count": 31,
   "metadata": {},
   "outputs": [
    {
     "name": "stderr",
     "output_type": "stream",
     "text": [
      "/tmp/ipykernel_18002/1880527508.py:1: SettingWithCopyWarning: \n",
      "A value is trying to be set on a copy of a slice from a DataFrame.\n",
      "Try using .loc[row_indexer,col_indexer] = value instead\n",
      "\n",
      "See the caveats in the documentation: https://pandas.pydata.org/pandas-docs/stable/user_guide/indexing.html#returning-a-view-versus-a-copy\n",
      "  data_st2[\"publisher\"]=pubs\n"
     ]
    }
   ],
   "source": [
    "# data_st2[\"publisher\"]=pubs"
   ]
  },
  {
   "cell_type": "code",
   "execution_count": 17,
   "metadata": {},
   "outputs": [],
   "source": [
    "data=data_st2.drop(columns=[\"average_rating\",\"  num_pages\"])"
   ]
  },
  {
   "cell_type": "code",
   "execution_count": 23,
   "metadata": {},
   "outputs": [
    {
     "data": {
      "text/html": [
       "<div>\n",
       "<style scoped>\n",
       "    .dataframe tbody tr th:only-of-type {\n",
       "        vertical-align: middle;\n",
       "    }\n",
       "\n",
       "    .dataframe tbody tr th {\n",
       "        vertical-align: top;\n",
       "    }\n",
       "\n",
       "    .dataframe thead th {\n",
       "        text-align: right;\n",
       "    }\n",
       "</style>\n",
       "<table border=\"1\" class=\"dataframe\">\n",
       "  <thead>\n",
       "    <tr style=\"text-align: right;\">\n",
       "      <th></th>\n",
       "      <th>authors</th>\n",
       "      <th>publisher</th>\n",
       "      <th>quality</th>\n",
       "      <th>size</th>\n",
       "    </tr>\n",
       "  </thead>\n",
       "  <tbody>\n",
       "    <tr>\n",
       "      <th>0</th>\n",
       "      <td>J.K. Rowling/Mary GrandPré</td>\n",
       "      <td>Scholastic Inc.</td>\n",
       "      <td>good</td>\n",
       "      <td>big</td>\n",
       "    </tr>\n",
       "    <tr>\n",
       "      <th>1</th>\n",
       "      <td>J.K. Rowling/Mary GrandPré</td>\n",
       "      <td>Scholastic Inc.</td>\n",
       "      <td>good</td>\n",
       "      <td>big</td>\n",
       "    </tr>\n",
       "    <tr>\n",
       "      <th>2</th>\n",
       "      <td>J.K. Rowling</td>\n",
       "      <td>Scholastic</td>\n",
       "      <td>good</td>\n",
       "      <td>small</td>\n",
       "    </tr>\n",
       "    <tr>\n",
       "      <th>3</th>\n",
       "      <td>J.K. Rowling/Mary GrandPré</td>\n",
       "      <td>Scholastic Inc.</td>\n",
       "      <td>good</td>\n",
       "      <td>big</td>\n",
       "    </tr>\n",
       "    <tr>\n",
       "      <th>4</th>\n",
       "      <td>J.K. Rowling/Mary GrandPré</td>\n",
       "      <td>Scholastic</td>\n",
       "      <td>good</td>\n",
       "      <td>big</td>\n",
       "    </tr>\n",
       "    <tr>\n",
       "      <th>...</th>\n",
       "      <td>...</td>\n",
       "      <td>...</td>\n",
       "      <td>...</td>\n",
       "      <td>...</td>\n",
       "    </tr>\n",
       "    <tr>\n",
       "      <th>7694</th>\n",
       "      <td>C.S. Lewis/Pauline Baynes/Ana Falcão Bastos</td>\n",
       "      <td>Editorial Presença</td>\n",
       "      <td>good</td>\n",
       "      <td>small</td>\n",
       "    </tr>\n",
       "    <tr>\n",
       "      <th>7695</th>\n",
       "      <td>William T. Vollmann</td>\n",
       "      <td>Penguin Books</td>\n",
       "      <td>not so good</td>\n",
       "      <td>small</td>\n",
       "    </tr>\n",
       "    <tr>\n",
       "      <th>7696</th>\n",
       "      <td>William T. Vollmann</td>\n",
       "      <td>Penguin Books</td>\n",
       "      <td>good</td>\n",
       "      <td>big</td>\n",
       "    </tr>\n",
       "    <tr>\n",
       "      <th>7697</th>\n",
       "      <td>William T. Vollmann</td>\n",
       "      <td>Penguin Books</td>\n",
       "      <td>good</td>\n",
       "      <td>big</td>\n",
       "    </tr>\n",
       "    <tr>\n",
       "      <th>7698</th>\n",
       "      <td>William T. Vollmann</td>\n",
       "      <td>Ecco</td>\n",
       "      <td>not so good</td>\n",
       "      <td>big</td>\n",
       "    </tr>\n",
       "  </tbody>\n",
       "</table>\n",
       "<p>7699 rows × 4 columns</p>\n",
       "</div>"
      ],
      "text/plain": [
       "                                          authors           publisher  \\\n",
       "0                      J.K. Rowling/Mary GrandPré     Scholastic Inc.   \n",
       "1                      J.K. Rowling/Mary GrandPré     Scholastic Inc.   \n",
       "2                                    J.K. Rowling          Scholastic   \n",
       "3                      J.K. Rowling/Mary GrandPré     Scholastic Inc.   \n",
       "4                      J.K. Rowling/Mary GrandPré          Scholastic   \n",
       "...                                           ...                 ...   \n",
       "7694  C.S. Lewis/Pauline Baynes/Ana Falcão Bastos  Editorial Presença   \n",
       "7695                          William T. Vollmann       Penguin Books   \n",
       "7696                          William T. Vollmann       Penguin Books   \n",
       "7697                          William T. Vollmann       Penguin Books   \n",
       "7698                          William T. Vollmann                Ecco   \n",
       "\n",
       "          quality   size  \n",
       "0            good    big  \n",
       "1            good    big  \n",
       "2            good  small  \n",
       "3            good    big  \n",
       "4            good    big  \n",
       "...           ...    ...  \n",
       "7694         good  small  \n",
       "7695  not so good  small  \n",
       "7696         good    big  \n",
       "7697         good    big  \n",
       "7698  not so good    big  \n",
       "\n",
       "[7699 rows x 4 columns]"
      ]
     },
     "execution_count": 23,
     "metadata": {},
     "output_type": "execute_result"
    }
   ],
   "source": [
    "data"
   ]
  },
  {
   "cell_type": "code",
   "execution_count": 24,
   "metadata": {},
   "outputs": [],
   "source": [
    "from collections import defaultdict\n",
    "\n",
    "class NaiveBayes:\n",
    "    def __init__(self):\n",
    "        self.prior_probs = {}\n",
    "        self.conditional_probs = defaultdict(dict)\n",
    "        self.classes = None\n",
    "\n",
    "    def fit(self, X, y):\n",
    "        self.classes, class_counts = np.unique(y, return_counts=True)\n",
    "        total_samples = len(y)\n",
    "        \n",
    "        # Compute prior probabilities P(class)\n",
    "        self.prior_probs = {cls: count / total_samples for cls, count in zip(self.classes, class_counts)}\n",
    "        \n",
    "        # Compute conditional probabilities P(feature | class)\n",
    "        for cls in self.classes:\n",
    "            X_cls = X[y == cls]\n",
    "            \n",
    "            for feature in X.columns:\n",
    "                values, counts = np.unique(X_cls[feature], return_counts=True)\n",
    "                self.conditional_probs[cls][feature] = {val: count / len(X_cls) for val, count in zip(values, counts)}\n",
    "    \n",
    "    def predict(self, X):\n",
    "        predictions = []\n",
    "        \n",
    "        for _, row in X.iterrows():\n",
    "            class_probs = {}\n",
    "            \n",
    "            for cls in self.classes:\n",
    "                prob = np.log(self.prior_probs[cls])  # Start with prior probability\n",
    "                \n",
    "                for feature in X.columns:\n",
    "                    feature_value = row[feature]\n",
    "                    \n",
    "                    # Use Laplace smoothing if the feature value is missing\n",
    "                    feature_probs = self.conditional_probs[cls].get(feature, {})\n",
    "                    prob += np.log(feature_probs.get(feature_value, 1e-6))\n",
    "                \n",
    "                class_probs[cls] = prob\n",
    "            \n",
    "            predictions.append(max(class_probs, key=class_probs.get))\n",
    "        \n",
    "        return np.array(predictions)\n",
    "    \n",
    "# Load your dataset (example: Pandas DataFrame)\n",
    "# data = pd.read_csv(\"your_data.csv\")\n",
    "\n",
    "# Encode categorical features manually\n",
    "for col in [\"publisher\", \"size\", \"authors\"]:\n",
    "    data[col] = data[col].astype(\"category\").cat.codes\n",
    "\n",
    "X = data.drop(columns=[\"quality\"])\n",
    "y = data[\"quality\"]\n",
    "\n",
    "# Split data\n",
    "X_train, X_test, y_train, y_test = train_test_split(X, y, test_size=0.2, random_state=42)\n",
    "\n",
    "# Train model\n",
    "# nb = NaiveBayes()\n",
    "# nb.fit(X_train, y_train)\n",
    "\n",
    "# Predictions\n",
    "# y_pred = nb.predict(X_test)\n",
    "\n",
    "# Accuracy\n",
    "# accuracy = np.mean(y_pred == y_test)\n",
    "# print(\"Accuracy:\", accuracy)\n"
   ]
  },
  {
   "cell_type": "code",
   "execution_count": 25,
   "metadata": {},
   "outputs": [],
   "source": [
    "from sklearn.model_selection import train_test_split\n",
    "\n",
    "X_train, X_test, y_train, y_test = train_test_split(X, y, test_size=0.2, random_state=42)\n"
   ]
  },
  {
   "cell_type": "code",
   "execution_count": 26,
   "metadata": {},
   "outputs": [],
   "source": [
    "nb = NaiveBayes()\n",
    "nb.fit(X_train, y_train)"
   ]
  },
  {
   "cell_type": "code",
   "execution_count": 27,
   "metadata": {},
   "outputs": [],
   "source": [
    "y_pred = nb.predict(X_test)\n"
   ]
  },
  {
   "cell_type": "code",
   "execution_count": 29,
   "metadata": {},
   "outputs": [
    {
     "name": "stdout",
     "output_type": "stream",
     "text": [
      "Accuracy: 0.6701298701298701\n"
     ]
    }
   ],
   "source": [
    "# Accuracy\n",
    "accuracy = np.mean(y_pred == y_test)\n",
    "print(\"Accuracy:\", accuracy)"
   ]
  },
  {
   "cell_type": "code",
   "execution_count": 36,
   "metadata": {},
   "outputs": [],
   "source": [
    "import pandas as pd\n",
    "from sklearn.model_selection import train_test_split\n",
    "from sklearn.preprocessing import LabelEncoder\n",
    "from sklearn.naive_bayes import GaussianNB\n",
    "from sklearn.metrics import accuracy_score"
   ]
  },
  {
   "cell_type": "code",
   "execution_count": 84,
   "metadata": {},
   "outputs": [
    {
     "name": "stdout",
     "output_type": "stream",
     "text": [
      "Accuracy: 0.5487012987012987\n"
     ]
    }
   ],
   "source": [
    "from sklearn.preprocessing import MultiLabelBinarizer\n",
    "\n",
    "\n",
    "\n",
    "\n",
    "# Encode other categorical variables\n",
    "label_encoders = {}\n",
    "for col in [\"publisher\",\"size\",\"quality\", \"authors\"]:\n",
    "    le = LabelEncoder()\n",
    "    data[col] = le.fit_transform(data[col])\n",
    "    label_encoders[col] = le  # Store for inverse transform\n",
    "\n",
    "# Split data\n",
    "X = data.drop(columns=[\"quality\"])  # Features\n",
    "y = data[\"quality\"]  # Target\n",
    "\n",
    "X_train, X_test, y_train, y_test = train_test_split(X, y, test_size=0.2, random_state=42)\n",
    "\n",
    "# Train Naïve Bayes Classifier\n",
    "model = GaussianNB()\n",
    "model.fit(X_train, y_train)\n",
    "\n",
    "# Predictions\n",
    "y_pred = model.predict(X_test)\n",
    "\n",
    "# Accuracy\n",
    "accuracy = accuracy_score(y_test, y_pred)\n",
    "print(\"Accuracy:\", accuracy)\n"
   ]
  },
  {
   "cell_type": "code",
   "execution_count": 85,
   "metadata": {},
   "outputs": [
    {
     "name": "stdout",
     "output_type": "stream",
     "text": [
      "New Accuracy: 0.6701298701298701\n"
     ]
    }
   ],
   "source": [
    "from sklearn.naive_bayes import CategoricalNB\n",
    "\n",
    "model = CategoricalNB()\n",
    "model.fit(X_train, y_train)\n",
    "y_pred = model.predict(X_test)\n",
    "accuracy = accuracy_score(y_test, y_pred)\n",
    "print(\"New Accuracy:\", accuracy)"
   ]
  },
  {
   "cell_type": "code",
   "execution_count": 30,
   "metadata": {},
   "outputs": [
    {
     "data": {
      "image/png": "[encoded data removed]",
      "text/plain": [
       "<Figure size 500x400 with 2 Axes>"
      ]
     },
     "metadata": {},
     "output_type": "display_data"
    }
   ],
   "source": [
    "import seaborn as sns\n",
    "import matplotlib.pyplot as plt\n",
    "from sklearn.metrics import confusion_matrix\n",
    "\n",
    "# Confusion Matrix\n",
    "cm = confusion_matrix(y_test, y_pred)\n",
    "\n",
    "# Plot Heatmap\n",
    "plt.figure(figsize=(5, 4))\n",
    "sns.heatmap(cm, annot=True, fmt='d', cmap=\"Blues\", xticklabels=[\"Bad\", \"Good\"], yticklabels=[\"Bad\", \"Good\"])\n",
    "plt.xlabel(\"Predicted\")\n",
    "plt.ylabel(\"Actual\")\n",
    "plt.title(\"Confusion Matrix\")\n",
    "plt.show()\n"
   ]
  }
 ],
 "metadata": {
  "kernelspec": {
   "display_name": ".venv",
   "language": "python",
   "name": "python3"
  },
  "language_info": {
   "codemirror_mode": {
    "name": "ipython",
    "version": 3
   },
   "file_extension": ".py",
   "mimetype": "text/x-python",
   "name": "python",
   "nbconvert_exporter": "python",
   "pygments_lexer": "ipython3",
   "version": "3.13.1"
  }
 },
 "nbformat": 4,
 "nbformat_minor": 2
}
